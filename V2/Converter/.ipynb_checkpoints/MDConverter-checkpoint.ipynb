{
 "cells": [
  {
   "cell_type": "markdown",
   "id": "bfb3aae4",
   "metadata": {
    "toc": true
   },
   "source": [
    "<h1>Table of Contents<span class=\"tocSkip\"></span></h1>\n",
    "<div class=\"toc\"><ul class=\"toc-item\"></ul></div>"
   ]
  },
  {
   "cell_type": "code",
   "execution_count": 2,
   "id": "1d0ec860",
   "metadata": {},
   "outputs": [],
   "source": [
    "from lxml import etree\n",
    "import re\n",
    "import xml.etree.ElementTree as ET\n",
    "import sys\n",
    "from markdownify import markdownify as md"
   ]
  },
  {
   "cell_type": "code",
   "execution_count": 19,
   "id": "0c531cce",
   "metadata": {},
   "outputs": [],
   "source": [
    "def main():\n",
    "    try:\n",
    "        #inp = sys.argv[1]\n",
    "        #style = sys.argv[2]\n",
    "        inp = 'charterbank.xml'\n",
    "        style = 'style.xslt'\n",
    "        transformer = etree.XSLT(xslt_tree)\n",
    "    #get paths\n",
    "        with open('markdown.txt', 'w') as output_file:\n",
    "            output_file.write(do_it_all(inp, style))\n",
    "    except IndexError:\n",
    "        print('please input all the necessary command line variables')"
   ]
  },
  {
   "cell_type": "code",
   "execution_count": 3,
   "id": "236a9598",
   "metadata": {},
   "outputs": [],
   "source": [
    "def apply_xslt(xml_path, xslt_path, output_path):\n",
    "    # Load the XML and XSLT files\n",
    "    xml_tree = etree.parse(xml_path)\n",
    "    xslt_tree = etree.parse(xslt_path)\n",
    "\n",
    "    # Create the XSLT transformer\n",
    "    transformer = etree.XSLT(xslt_tree)\n",
    "\n",
    "    # Apply the XSLT transformation to the XML\n",
    "    transformed_tree = transformer(xml_tree)\n",
    "\n",
    "    # Save the result as a .txt file\n",
    "    with open(output_path, 'w', encoding='utf-8') as output_file:\n",
    "        output_file.write(str(transformed_tree))"
   ]
  },
  {
   "cell_type": "code",
   "execution_count": 4,
   "id": "9c217d01",
   "metadata": {},
   "outputs": [],
   "source": [
    "#regexes:\n",
    "p_fn = r'\\[fn:fn(\\d+)\\]' #footnote in running text\n",
    "p_tbl = r'\\[tbl: tb(\\d+)\\]' #table\n",
    "p_cptn = r'(?s)\\*\\_(.*?)\\_\\*' #caption for figure"
   ]
  },
  {
   "cell_type": "code",
   "execution_count": 5,
   "id": "2626d868",
   "metadata": {},
   "outputs": [],
   "source": [
    "def extract_table_wrap_elements(xml_file):\n",
    "    tree = ET.parse(xml_file)\n",
    "    root = tree.getroot()\n",
    "\n",
    "    table_wrap_dict = {}\n",
    "    for table_wrap in root.findall(\".//table-wrap\"):\n",
    "        table_wrap_id = table_wrap.attrib.get(\"id\")\n",
    "        if table_wrap_id:\n",
    "            table_wrap_dict[table_wrap_id] = ET.tostring(table_wrap, encoding=\"unicode\")\n",
    "\n",
    "    return table_wrap_dict"
   ]
  },
  {
   "cell_type": "code",
   "execution_count": 6,
   "id": "92e49ca2",
   "metadata": {},
   "outputs": [],
   "source": [
    "from bs4 import BeautifulSoup\n",
    "\n",
    "def html_table_to_markdown(html_table):\n",
    "    # Parse the HTML using BeautifulSoup\n",
    "    soup = BeautifulSoup(html_table, 'html.parser')\n",
    "\n",
    "    # Extract the table header (thead) and rows (tbody)\n",
    "    table_header = soup.thead\n",
    "    table_rows = soup.tbody.find_all('tr')\n",
    "\n",
    "    # Initialize the markdown table\n",
    "    markdown_table = \"\"\n",
    "\n",
    "    # Process the table header\n",
    "    if table_header:\n",
    "        headers = [th.text.strip() for th in table_header.find_all('th')]\n",
    "        markdown_table += \"| \" + \" | \".join(headers) + \" |\\n\"\n",
    "        markdown_table += \"| \" + \" | \".join([\"---\"] * len(headers)) + \" |\\n\"\n",
    "\n",
    "    # Process the table rows\n",
    "    for row in table_rows:\n",
    "        cells = [td.text.strip() for td in row.find_all(['td', 'th'])]\n",
    "        markdown_table += \"| \" + \" | \".join(cells) + \" |\\n\"\n",
    "\n",
    "    return markdown_table"
   ]
  },
  {
   "cell_type": "code",
   "execution_count": 7,
   "id": "bf10e77a",
   "metadata": {},
   "outputs": [],
   "source": [
    "def get_table_by_id(table_id, xmlfile):\n",
    "    table_dict = extract_table_wrap_elements(xmlfile)\n",
    "    return table_dict[table_id]"
   ]
  },
  {
   "cell_type": "code",
   "execution_count": 8,
   "id": "fa72e304",
   "metadata": {},
   "outputs": [],
   "source": [
    "def replace_table(table_id, xmlfile):\n",
    "    tablepattern = r'<table>[\\S\\s]*<\\/table>'\n",
    "    labelpattern = r'<label>.*<\\/label>'\n",
    "    captionpattern = r'<caption><p>.*<\\/p><\\/caption>'\n",
    "    og_table = get_table_by_id(table_id, xmlfile)\n",
    "    new_table = og_table\n",
    "    \n",
    "    #fix the label\n",
    "    label = re.search(labelpattern, og_table).group()\n",
    "    #print(label)\n",
    "    new_label = label.replace('<label>', '**')\n",
    "    new_label = new_label.replace('</label>', '**')\n",
    "    new_table = new_table.replace(label, new_label)\n",
    "    \n",
    "    #fix the caption\n",
    "    caption = re.search(captionpattern, og_table).group()\n",
    "    #print(caption)\n",
    "    new_caption = caption.replace('<caption><p>', '_')\n",
    "    new_caption = new_caption.replace('</p></caption>', '_')\n",
    "    new_table = new_table.replace(caption, new_caption)\n",
    "    \n",
    "    #fix the table\n",
    "    tabeldeel = re.search(tablepattern, og_table).group()\n",
    "    new_tabeldeel = html_table_to_markdown(tabeldeel)\n",
    "    new_table = new_table.replace(tabeldeel, new_tabeldeel)\n",
    "    new_table = new_table.replace('</table-wrap>', '')\n",
    "    new_table = new_table.replace(re.search(r'<table-wrap .*>', new_table).group(), '')\n",
    "    \n",
    "    return new_table"
   ]
  },
  {
   "cell_type": "code",
   "execution_count": 9,
   "id": "065731ae",
   "metadata": {},
   "outputs": [],
   "source": [
    "def replace_tables(markupfile, xmlfile):\n",
    "    id_nos = re.findall(p_tbl, markupfile)\n",
    "    for table in id_nos:\n",
    "        tblid = 'tb' + table\n",
    "        #print(table)\n",
    "        replacement = replace_table(tblid, xmlfile)\n",
    "        #print()\n",
    "        #print(replacement)\n",
    "        tobereplaced = '[tbl: ' + tblid + ']'\n",
    "        markupfile = markupfile.replace(tobereplaced, replacement)\n",
    "    return markupfile"
   ]
  },
  {
   "cell_type": "code",
   "execution_count": 10,
   "id": "e979490b",
   "metadata": {},
   "outputs": [],
   "source": [
    "def get_text_recursively(element):\n",
    "    text = element.text or \"\"\n",
    "    for child in element:\n",
    "        text += get_text_recursively(child)\n",
    "        text += child.tail or \"\"\n",
    "    return text\n",
    "\n",
    "def extract_fn_contents(xml_file):\n",
    "    # Initialize an empty dictionary to store the extracted content\n",
    "    fn_dict = {}\n",
    "\n",
    "    # Parse the XML file\n",
    "    tree = ET.parse(xml_file)\n",
    "    root = tree.getroot()\n",
    "\n",
    "    # Find all <fn> elements within the <fn-group>\n",
    "    for fn in root.findall('.//fn-group/fn'):\n",
    "        fn_id = fn.get('id')  # Get the fn id\n",
    "        fn_label = fn.find('label').text  # Get the fn label\n",
    "        fn_content = get_text_recursively(fn.find('p'))  # Get the fn content\n",
    "\n",
    "        # Store the content in the dictionary using the label as the key\n",
    "        fn_dict[fn_label] = fn_content\n",
    "\n",
    "    return fn_dict"
   ]
  },
  {
   "cell_type": "code",
   "execution_count": 11,
   "id": "c6ccf297",
   "metadata": {},
   "outputs": [],
   "source": [
    "def apply_xslt_fn(fn, xslt_path):\n",
    "    # Load the XML and XSLT files\n",
    "    xslt_tree = etree.parse(xslt_path)\n",
    "\n",
    "    # Create the XSLT transformer\n",
    "    transformer = etree.XSLT(xslt_tree)\n",
    "\n",
    "    # Apply the XSLT transformation to the XML\n",
    "    transformed_fn = transformer(fn)\n",
    "\n",
    "    return output\n",
    "\n",
    "def add_footnotes_bottom(txt, basexml):\n",
    "    footnote_list = extract_fn_contents(basexml)\n",
    "    for fn in footnote_list.keys():\n",
    "        fnno = fn\n",
    "        fntxt = footnote_list[fn]\n",
    "        fntxt = apply_xslt_fn(fntxt, sys.argv[2]) #apply stylesheet to fntxt\n",
    "        fnformula = \"<p><a href=\\\"#_ftnref\"+ fnno +'\" name=\"_ftn' + fnno + '\">[' + fnno +'] </a>' + fntxt + '</p>'\n",
    "        txt += '\\n'\n",
    "        txt += '\\n'\n",
    "        txt += fnformula\n",
    "    return txt"
   ]
  },
  {
   "cell_type": "code",
   "execution_count": 12,
   "id": "3285399e",
   "metadata": {},
   "outputs": [],
   "source": [
    "def add_fn(txt, xmlfile):\n",
    "    footnote_list = extract_fn_contents(xmlfile)\n",
    "    for fn in footnote_list.keys():\n",
    "        fnid = 'fn' + fn\n",
    "        #print(table)\n",
    "        replacement = '<a href=\"#_ftn' + fn + '\" name=\"_ftnref' + fn + '\">[' + fn +  ']</a>'\n",
    "        #print()\n",
    "        #print(replacement)\n",
    "        tobereplaced = '[fn:' + fnid + ']'\n",
    "        #print(tobereplaced)\n",
    "        txt = txt.replace(tobereplaced, replacement)\n",
    "    return txt"
   ]
  },
  {
   "cell_type": "code",
   "execution_count": 13,
   "id": "5dac0323",
   "metadata": {},
   "outputs": [],
   "source": [
    "def do_it_all(input_path, style_path):\n",
    "    p_fn = r'\\[fn:fn(\\d+)\\]' #footnote in running text\n",
    "    p_tbl = r'\\[tbl: tb(\\d+)\\]' #table\n",
    "    p_cptn = r'(?s)\\*\\_(.*?)\\_\\*' #caption for figure\n",
    "    apply_xslt(input_path, style_path, 'temp.txt')\n",
    "    with open('temp.txt', 'r', encoding='utf-8') as file:\n",
    "    # Read the entire content of the file\n",
    "        markdownfile = file.read()\n",
    "    markdownfile = replace_tables(markdownfile, input_path)\n",
    "    markdownfile = add_footnotes_bottom(markdownfile, input_path)\n",
    "    markdownfile = add_fn(markdownfile, input_path)\n",
    "    \n",
    "    return markdownfile"
   ]
  },
  {
   "cell_type": "code",
   "execution_count": 18,
   "id": "077ee71b",
   "metadata": {},
   "outputs": [
    {
     "ename": "XMLSyntaxError",
     "evalue": "Start tag expected, '<' not found, line 1, column 1 (file:/C:/Users/kayp/AppData/Roaming/jupyter/runtime/kernel-ae078590-a4f7-407d-ab3b-3e06f395afea.json, line 1)",
     "output_type": "error",
     "traceback": [
      "Traceback \u001b[1;36m(most recent call last)\u001b[0m:\n",
      "\u001b[0m  File \u001b[0;32m~\\AppData\\Local\\anaconda3\\lib\\site-packages\\IPython\\core\\interactiveshell.py:3460\u001b[0m in \u001b[0;35mrun_code\u001b[0m\n    exec(code_obj, self.user_global_ns, self.user_ns)\u001b[0m\n",
      "\u001b[0m  Cell \u001b[0;32mIn[18], line 1\u001b[0m\n    main()\u001b[0m\n",
      "\u001b[0m  Cell \u001b[0;32mIn[17], line 9\u001b[0m in \u001b[0;35mmain\u001b[0m\n    output_file.write(do_it_all(inp, style))\u001b[0m\n",
      "\u001b[0m  Cell \u001b[0;32mIn[13], line 10\u001b[0m in \u001b[0;35mdo_it_all\u001b[0m\n    markdownfile = add_footnotes_bottom(markdownfile, input_path)\u001b[0m\n",
      "\u001b[0m  Cell \u001b[0;32mIn[11], line 18\u001b[0m in \u001b[0;35madd_footnotes_bottom\u001b[0m\n    fntxt = apply_xslt_fn(fntxt, sys.argv[2]) #apply stylesheet to fntxt\u001b[0m\n",
      "\u001b[0m  Cell \u001b[0;32mIn[11], line 3\u001b[0m in \u001b[0;35mapply_xslt_fn\u001b[0m\n    xslt_tree = etree.parse(xslt_path)\u001b[0m\n",
      "\u001b[0m  File \u001b[0;32msrc/lxml/etree.pyx:3538\u001b[0m in \u001b[0;35mlxml.etree.parse\u001b[0m\n",
      "\u001b[0m  File \u001b[0;32msrc/lxml/parser.pxi:1876\u001b[0m in \u001b[0;35mlxml.etree._parseDocument\u001b[0m\n",
      "\u001b[0m  File \u001b[0;32msrc/lxml/parser.pxi:1902\u001b[0m in \u001b[0;35mlxml.etree._parseDocumentFromURL\u001b[0m\n",
      "\u001b[0m  File \u001b[0;32msrc/lxml/parser.pxi:1805\u001b[0m in \u001b[0;35mlxml.etree._parseDocFromFile\u001b[0m\n",
      "\u001b[0m  File \u001b[0;32msrc/lxml/parser.pxi:1177\u001b[0m in \u001b[0;35mlxml.etree._BaseParser._parseDocFromFile\u001b[0m\n",
      "\u001b[0m  File \u001b[0;32msrc/lxml/parser.pxi:615\u001b[0m in \u001b[0;35mlxml.etree._ParserContext._handleParseResultDoc\u001b[0m\n",
      "\u001b[0m  File \u001b[0;32msrc/lxml/parser.pxi:725\u001b[0m in \u001b[0;35mlxml.etree._handleParseResult\u001b[0m\n",
      "\u001b[1;36m  File \u001b[1;32msrc/lxml/parser.pxi:654\u001b[1;36m in \u001b[1;35mlxml.etree._raiseParseError\u001b[1;36m\n",
      "\u001b[1;36m  File \u001b[1;32mfile:/C:/Users/kayp/AppData/Roaming/jupyter/runtime/kernel-ae078590-a4f7-407d-ab3b-3e06f395afea.json:1\u001b[1;36m\u001b[0m\n\u001b[1;31mXMLSyntaxError\u001b[0m\u001b[1;31m:\u001b[0m Start tag expected, '<' not found, line 1, column 1\n"
     ]
    }
   ],
   "source": [
    "main()"
   ]
  },
  {
   "cell_type": "code",
   "execution_count": null,
   "id": "ee169409",
   "metadata": {},
   "outputs": [],
   "source": []
  }
 ],
 "metadata": {
  "kernelspec": {
   "display_name": "Python 3 (ipykernel)",
   "language": "python",
   "name": "python3"
  },
  "language_info": {
   "codemirror_mode": {
    "name": "ipython",
    "version": 3
   },
   "file_extension": ".py",
   "mimetype": "text/x-python",
   "name": "python",
   "nbconvert_exporter": "python",
   "pygments_lexer": "ipython3",
   "version": "3.10.9"
  },
  "toc": {
   "base_numbering": 1,
   "nav_menu": {},
   "number_sections": true,
   "sideBar": true,
   "skip_h1_title": false,
   "title_cell": "Table of Contents",
   "title_sidebar": "Contents",
   "toc_cell": true,
   "toc_position": {},
   "toc_section_display": true,
   "toc_window_display": false
  }
 },
 "nbformat": 4,
 "nbformat_minor": 5
}
