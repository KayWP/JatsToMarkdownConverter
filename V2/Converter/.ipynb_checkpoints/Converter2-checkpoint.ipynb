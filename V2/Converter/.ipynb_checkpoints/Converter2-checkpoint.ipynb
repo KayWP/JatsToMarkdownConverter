{
 "cells": [
  {
   "cell_type": "code",
   "execution_count": 1,
   "id": "8c779b17",
   "metadata": {},
   "outputs": [],
   "source": [
    "import re\n",
    "import xml.etree.ElementTree as ET\n",
    "from markdownify import markdownify as md\n",
    "from bs4 import BeautifulSoup\n",
    "from lxml import etree\n",
    "import sys"
   ]
  },
  {
   "cell_type": "code",
   "execution_count": 5,
   "id": "3a7a810d",
   "metadata": {},
   "outputs": [],
   "source": [
    "#regexes:\n",
    "p_fn = r'\\[fn:fn(\\d+)\\]' #footnote in running text\n",
    "p_tbl = r'\\[tbl: tb(\\d+)\\]' #table\n",
    "p_cptn = r'(?s)\\*\\_(.*?)\\_\\*' #caption for figure"
   ]
  },
  {
   "cell_type": "code",
   "execution_count": 21,
   "id": "0d3813c4",
   "metadata": {},
   "outputs": [],
   "source": [
    "def apply_xslt(xml_path, xslt_path):\n",
    "    \"\"\"\n",
    "    Apply XSLT transformation to an XML file and save the result to a text file.\n",
    "    \"\"\"\n",
    "    xml_tree = etree.parse(xml_path)\n",
    "    xslt_tree = etree.parse(xslt_path)\n",
    "    transformer = etree.XSLT(xslt_tree)\n",
    "    transformed_tree = transformer(xml_tree)\n",
    "    \n",
    "    return str(transformed_tree)\n",
    "\n",
    "def apply_xslt_fn(fn, xslt_path):\n",
    "    \"\"\"\n",
    "     Apply the xslt to individual footnotes\n",
    "    \"\"\"\n",
    "    xml_tree = etree.parse(fn)\n",
    "    xslt_tree = etree.parse(xslt_path)\n",
    "    transformer = etree.XSLT(xslt_tree)\n",
    "    transformed_fn = transformer(xml_tree)\n",
    "    \n",
    "    return str(transformed_fn)"
   ]
  },
  {
   "cell_type": "code",
   "execution_count": 4,
   "id": "eeb9c145",
   "metadata": {},
   "outputs": [],
   "source": [
    "def replace_tables(markup_file, xml_file):\n",
    "    id_nos = re.findall(r'\\[tbl: tb(\\d+)\\]', markup_file)\n",
    "    for table_id in id_nos:\n",
    "        table_id = 'tb' + table_id\n",
    "        replacement = replace_table(table_id, xml_file)\n",
    "        markup_file = markup_file.replace('[tbl: ' + table_id + ']', replacement)\n",
    "    return markup_file"
   ]
  },
  {
   "cell_type": "code",
   "execution_count": 24,
   "id": "d09b28b2",
   "metadata": {},
   "outputs": [],
   "source": [
    "def get_text_recursively(element):\n",
    "    text = element.text or \"\"\n",
    "    for child in element:\n",
    "        text += get_text_recursively(child)\n",
    "        text += child.tail or \"\"\n",
    "    return text\n",
    "\n",
    "def extract_fn_contents(xml_file):\n",
    "    # Initialize an empty dictionary to store the extracted content\n",
    "    fn_dict = {}\n",
    "\n",
    "    # Parse the XML file\n",
    "    tree = ET.parse(xml_file)\n",
    "    root = tree.getroot()\n",
    "\n",
    "    # Find all <fn> elements within the <fn-group>\n",
    "    for fn in root.findall('.//fn-group/fn'):\n",
    "        fn_id = fn.get('id')  # Get the fn id\n",
    "        fn_label = fn.find('label').text  # Get the fn label\n",
    "        fn_content = get_text_recursively(fn.find('p'))  # Get the fn content\n",
    "\n",
    "        # Store the content in the dictionary using the label as the key\n",
    "        fn_dict[fn_label] = fn_content\n",
    "\n",
    "    return fn_dict\n",
    "\n",
    "def add_footnotes_bottom(txt, basexml, style):\n",
    "    footnote_list = extract_fn_contents(basexml)\n",
    "    for fn in footnote_list.keys():\n",
    "        fnno = fn\n",
    "        fntxt = footnote_list[fn]\n",
    "        fntxt = '<root><body>' + fntxt + '</body></root>'\n",
    "        fntxt = apply_xslt_fn(fntxt, style)\n",
    "        fnformula = \"<p><a href=\\\"#_ftnref\"+ fnno +'\" name=\"_ftn' + fnno + '\">[' + fnno +'] </a>' + fntxt + '</p>'\n",
    "        txt += '\\n'\n",
    "        txt += '\\n'\n",
    "        txt += fnformula\n",
    "    return txt\n",
    "\n",
    "def add_fn(txt, xmlfile):\n",
    "    footnote_list = extract_fn_contents(xmlfile)\n",
    "    for fn in footnote_list.keys():\n",
    "        fnid = 'fn' + fn\n",
    "        #print(table)\n",
    "        replacement = '<a href=\"#_ftn' + fn + '\" name=\"_ftnref' + fn + '\">[' + fn +  ']</a>'\n",
    "        #print()\n",
    "        #print(replacement)\n",
    "        tobereplaced = '[fn:' + fnid + ']'\n",
    "        #print(tobereplaced)\n",
    "        txt = txt.replace(tobereplaced, replacement)\n",
    "    return txt"
   ]
  },
  {
   "cell_type": "code",
   "execution_count": 23,
   "id": "39dfdb86",
   "metadata": {},
   "outputs": [],
   "source": [
    "def main():\n",
    "    try:\n",
    "        input_file = sys.argv[1]\n",
    "        style_file = sys.argv[2]\n",
    "        \n",
    "        markdown_file = apply_xslt(input_file, style_file)\n",
    "        \n",
    "        #replace tables here\n",
    "        markdown_file = add_footnotes_bottom(markdown_file, input_file, style_file)\n",
    "        markdown_file = add_fn(markdown_file, input_file)    \n",
    "            \n",
    "        with open('markdown.txt', 'w') as final_file:\n",
    "            final_file.write(markdown_file)\n",
    "            \n",
    "    except IndexError:\n",
    "        print('Please input all the necessary command line variables')"
   ]
  },
  {
   "cell_type": "code",
   "execution_count": 11,
   "id": "ac2165f6",
   "metadata": {},
   "outputs": [
    {
     "ename": "TypeError",
     "evalue": "apply_xslt() missing 1 required positional argument: 'output_path'",
     "output_type": "error",
     "traceback": [
      "\u001b[1;31m---------------------------------------------------------------------------\u001b[0m",
      "\u001b[1;31mTypeError\u001b[0m                                 Traceback (most recent call last)",
      "Cell \u001b[1;32mIn[11], line 1\u001b[0m\n\u001b[1;32m----> 1\u001b[0m \u001b[43mmain\u001b[49m\u001b[43m(\u001b[49m\u001b[43m)\u001b[49m\n",
      "Cell \u001b[1;32mIn[10], line 6\u001b[0m, in \u001b[0;36mmain\u001b[1;34m()\u001b[0m\n\u001b[0;32m      3\u001b[0m input_file \u001b[38;5;241m=\u001b[39m sys\u001b[38;5;241m.\u001b[39margv[\u001b[38;5;241m1\u001b[39m]\n\u001b[0;32m      4\u001b[0m style_file \u001b[38;5;241m=\u001b[39m sys\u001b[38;5;241m.\u001b[39margv[\u001b[38;5;241m2\u001b[39m]\n\u001b[1;32m----> 6\u001b[0m markdown_file \u001b[38;5;241m=\u001b[39m \u001b[43mapply_xslt\u001b[49m\u001b[43m(\u001b[49m\u001b[43minput_file\u001b[49m\u001b[43m,\u001b[49m\u001b[43m \u001b[49m\u001b[43mstyle_file\u001b[49m\u001b[43m)\u001b[49m\n\u001b[0;32m      8\u001b[0m markdown_file \u001b[38;5;241m=\u001b[39m replace_tables(markdown_file, input_file)\n\u001b[0;32m      9\u001b[0m markdown_file \u001b[38;5;241m=\u001b[39m add_footnotes_bottom(markdown_file, input_file)\n",
      "\u001b[1;31mTypeError\u001b[0m: apply_xslt() missing 1 required positional argument: 'output_path'"
     ]
    }
   ],
   "source": [
    "main()"
   ]
  },
  {
   "cell_type": "code",
   "execution_count": null,
   "id": "1277386d",
   "metadata": {},
   "outputs": [],
   "source": []
  }
 ],
 "metadata": {
  "kernelspec": {
   "display_name": "Python 3 (ipykernel)",
   "language": "python",
   "name": "python3"
  },
  "language_info": {
   "codemirror_mode": {
    "name": "ipython",
    "version": 3
   },
   "file_extension": ".py",
   "mimetype": "text/x-python",
   "name": "python",
   "nbconvert_exporter": "python",
   "pygments_lexer": "ipython3",
   "version": "3.10.9"
  }
 },
 "nbformat": 4,
 "nbformat_minor": 5
}
