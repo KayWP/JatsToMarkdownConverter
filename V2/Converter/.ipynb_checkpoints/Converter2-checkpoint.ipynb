{
 "cells": [
  {
   "cell_type": "code",
   "execution_count": 1,
   "id": "199fec3a",
   "metadata": {},
   "outputs": [],
   "source": [
    "import re\n",
    "import xml.etree.ElementTree as ET\n",
    "from markdownify import markdownify as md\n",
    "from bs4 import BeautifulSoup\n",
    "from lxml import etree\n",
    "import sys"
   ]
  },
  {
   "cell_type": "code",
   "execution_count": 2,
   "id": "d44ec11c",
   "metadata": {},
   "outputs": [],
   "source": [
    "#regexes:\n",
    "p_fn = r'\\[fn:fn(\\d+)\\]' #footnote in running text\n",
    "p_tbl = r'\\[tbl: tb(\\d+)\\]' #table\n",
    "p_cptn = r'(?s)\\*\\_(.*?)\\_\\*' #caption for figures\n",
    "p_url = r'https?:\\/\\/[^\\s()]+'"
   ]
  },
  {
   "cell_type": "code",
   "execution_count": 3,
   "id": "2a83ea2b",
   "metadata": {},
   "outputs": [],
   "source": [
    "def apply_xslt(xml_string, xslt_path):\n",
    "    \"\"\"\n",
    "    Apply XSLT transformation to an XML file and save the result to a text file.\n",
    "    \"\"\"\n",
    "    xml_tree = etree.fromstring(xml_string)\n",
    "    xslt_tree = etree.parse(xslt_path)\n",
    "    transformer = etree.XSLT(xslt_tree)\n",
    "    transformed_tree = transformer(xml_tree)\n",
    "    \n",
    "    return str(transformed_tree)"
   ]
  },
  {
   "cell_type": "code",
   "execution_count": 12,
   "id": "28f9ae81",
   "metadata": {},
   "outputs": [],
   "source": [
    "def split_title_from_body(xml):\n",
    "    #takes an xml file, reads it, returns an lxml.etree._ElementTree object without the 'front'\n",
    "    tree = ET.parse(xml)\n",
    "    tree = tree.getroot()\n",
    "    tree.remove(tree.find('front'))\n",
    "\n",
    "    string = ET.tostring(tree)\n",
    "    \n",
    "    return string"
   ]
  },
  {
   "cell_type": "code",
   "execution_count": 55,
   "id": "a1ab9db9",
   "metadata": {},
   "outputs": [],
   "source": [
    "def find_article_metadata_bmgn(xml):\n",
    "    #this function is specific to the BMGN structure. Not sure how well it will work for other journals\n",
    "    xml_tree = etree.parse(xml)\n",
    "    article_title = xml_tree.find('//article-title')\n",
    "    article_subtitle = xml_tree.find('//subtitle')\n",
    "    author_names = []\n",
    "    for contrib in xml_tree.xpath('//contrib[@contrib-type=\"author\"]'):\n",
    "        surname = contrib.find('.//surname').text\n",
    "        given_names = contrib.find('.//given-names').text\n",
    "        full_name = f\"{given_names} {surname}\"\n",
    "        author_names.append(full_name)\n",
    "        \n",
    "    doi_element = xml_tree.find('.//article-id[@pub-id-type=\"doi\"]')\n",
    "    \n",
    "    return article_title.text, article_subtitle.text, author_names, doi_element.text"
   ]
  },
  {
   "cell_type": "code",
   "execution_count": 54,
   "id": "b8338555",
   "metadata": {},
   "outputs": [],
   "source": [
    "def gen_title_bmgn(xml):\n",
    "    title_info = find_article_metadata_bmgn(xml)\n",
    "    title = f\"# {title_info[0]} \\n## {title_info[1]} \\n[{title_info[3]}]({title_info[3]})\\n\\n\"\n",
    "    for author in title_info[2]:\n",
    "        title = title + f\"{author}\\n\"\n",
    "    return title"
   ]
  },
  {
   "cell_type": "code",
   "execution_count": 51,
   "id": "23352518",
   "metadata": {},
   "outputs": [
    {
     "name": "stdout",
     "output_type": "stream",
     "text": [
      "#De Digitale Charterbank Nederland \n",
      "##Grootschalige digitale bronontsluiting en het historisch onderzoek \n",
      "[10.51769/bmgn-lchr.6997](10.51769/bmgn-lchr.6997)\n",
      "\n",
      "Jan Burgers\n",
      "Rik Hoekstra\n",
      "\n"
     ]
    },
    {
     "name": "stderr",
     "output_type": "stream",
     "text": [
      "C:\\Users\\kayp\\AppData\\Local\\Temp\\ipykernel_1556\\3745154893.py:6: FutureWarning: The behavior of this method will change in future versions. Use specific 'len(elem)' or 'elem is not None' test instead.\n",
      "  if article_subtitle:\n"
     ]
    }
   ],
   "source": []
  },
  {
   "cell_type": "code",
   "execution_count": 4,
   "id": "f3e14670",
   "metadata": {},
   "outputs": [],
   "source": [
    "def replace_tables(markup_file, xml_file):\n",
    "    id_nos = re.findall(r'\\[tbl: tb(\\d+)\\]', markup_file)\n",
    "    for table_id in id_nos:\n",
    "        table_id = 'tb' + table_id\n",
    "        replacement = replace_table(table_id, xml_file)\n",
    "        markup_file = markup_file.replace('[tbl: ' + table_id + ']', replacement)\n",
    "    return markup_file"
   ]
  },
  {
   "cell_type": "code",
   "execution_count": 27,
   "id": "05a49d99",
   "metadata": {},
   "outputs": [],
   "source": [
    "def get_text_recursively(element):\n",
    "    text = element.text or \"\"\n",
    "    for child in element:\n",
    "        text += get_text_recursively(child)\n",
    "        text += child.tail or \"\"\n",
    "    return text\n",
    "\n",
    "def extract_fn_contents(xml_file):\n",
    "    # Initialize an empty dictionary to store the extracted content\n",
    "    fn_dict = {}\n",
    "\n",
    "    # Parse the XML file\n",
    "    tree = ET.parse(xml_file)\n",
    "    root = tree.getroot()\n",
    "\n",
    "    # Find all <fn> elements within the <fn-group>\n",
    "    for fn in root.findall('.//fn-group/fn'):\n",
    "        fn_id = fn.get('id')  # Get the fn id\n",
    "        fn_label = fn.find('label').text  # Get the fn label\n",
    "        fn_content = get_text_recursively(fn.find('p'))  # Get the fn content\n",
    "\n",
    "        # Store the content in the dictionary using the label as the key\n",
    "        fn_dict[fn_label] = fn_content\n",
    "\n",
    "    return fn_dict\n",
    "\n",
    "def add_footnotes_bottom(txt, basexml):\n",
    "    footnote_list = extract_fn_contents(basexml)\n",
    "    for fn in footnote_list.keys():\n",
    "        fnno = fn\n",
    "        fntxt = footnote_list[fn]\n",
    "        fntxt = activate_urls(fntxt)\n",
    "        fnformula = \"<p><a href=\\\"#_ftnref\"+ fnno +'\" name=\"_ftn' + fnno + '\">[' + fnno +'] </a>' + fntxt + '</p>'\n",
    "        txt += '\\n'\n",
    "        txt += '\\n'\n",
    "        txt += fnformula\n",
    "    return txt\n",
    "\n",
    "def add_fn(txt, xmlfile):\n",
    "    footnote_list = extract_fn_contents(xmlfile)\n",
    "    for fn in footnote_list.keys():\n",
    "        fnid = 'fn' + fn\n",
    "        #print(table)\n",
    "        replacement = '<a href=\"#_ftn' + fn + '\" name=\"_ftnref' + fn + '\">[' + fn +  ']</a>'\n",
    "        #print()\n",
    "        #print(replacement)\n",
    "        tobereplaced = '[fn:' + fnid + ']'\n",
    "        #print(tobereplaced)\n",
    "        txt = txt.replace(tobereplaced, replacement)\n",
    "    return txt"
   ]
  },
  {
   "cell_type": "code",
   "execution_count": 14,
   "id": "7bfb2456",
   "metadata": {},
   "outputs": [],
   "source": [
    "def activate_urls(text):\n",
    "    urls = re.findall(p_url, text)\n",
    "    formatted_text = text\n",
    "    for url in urls:\n",
    "        url = url.strip('.')\n",
    "        markdown_link = f'<a href={url} target=\"_blank>{url}</a>'\n",
    "        formatted_text = formatted_text.replace(url, markdown_link)\n",
    "    return formatted_text"
   ]
  },
  {
   "cell_type": "code",
   "execution_count": 53,
   "id": "9ae5b4f1",
   "metadata": {},
   "outputs": [],
   "source": [
    "def main():\n",
    "    try:\n",
    "        input_file = sys.argv[1]\n",
    "        style_file = sys.argv[2]\n",
    "            \n",
    "    except IndexError:\n",
    "        print('Please input all the necessary command line variables')\n",
    "    \n",
    "    \n",
    "    file_without_front = split_title_from_body(input_file) #split the front, so we can add the title info in the replace_title function\n",
    "    markdown_file = apply_xslt(file_without_front, style_file)\n",
    "        \n",
    "        #replace tables here\n",
    "    markdown_file = add_footnotes_bottom(markdown_file, input_file)\n",
    "    markdown_file = add_fn(markdown_file, input_file)\n",
    "    title = gen_title_bmgn(input_file) #create a title from the XML\n",
    "    \n",
    "    final_product = title + '\\n' + markdown_file #merge the generated title with the process front-free file\n",
    "    \n",
    "    with open('markdown.txt', 'w') as final_file:\n",
    "        final_file.write(final_product)"
   ]
  },
  {
   "cell_type": "code",
   "execution_count": 11,
   "id": "2f4a805f",
   "metadata": {},
   "outputs": [
    {
     "ename": "TypeError",
     "evalue": "apply_xslt() missing 1 required positional argument: 'output_path'",
     "output_type": "error",
     "traceback": [
      "\u001b[1;31m---------------------------------------------------------------------------\u001b[0m",
      "\u001b[1;31mTypeError\u001b[0m                                 Traceback (most recent call last)",
      "Cell \u001b[1;32mIn[11], line 1\u001b[0m\n\u001b[1;32m----> 1\u001b[0m \u001b[43mmain\u001b[49m\u001b[43m(\u001b[49m\u001b[43m)\u001b[49m\n",
      "Cell \u001b[1;32mIn[10], line 6\u001b[0m, in \u001b[0;36mmain\u001b[1;34m()\u001b[0m\n\u001b[0;32m      3\u001b[0m input_file \u001b[38;5;241m=\u001b[39m sys\u001b[38;5;241m.\u001b[39margv[\u001b[38;5;241m1\u001b[39m]\n\u001b[0;32m      4\u001b[0m style_file \u001b[38;5;241m=\u001b[39m sys\u001b[38;5;241m.\u001b[39margv[\u001b[38;5;241m2\u001b[39m]\n\u001b[1;32m----> 6\u001b[0m markdown_file \u001b[38;5;241m=\u001b[39m \u001b[43mapply_xslt\u001b[49m\u001b[43m(\u001b[49m\u001b[43minput_file\u001b[49m\u001b[43m,\u001b[49m\u001b[43m \u001b[49m\u001b[43mstyle_file\u001b[49m\u001b[43m)\u001b[49m\n\u001b[0;32m      8\u001b[0m markdown_file \u001b[38;5;241m=\u001b[39m replace_tables(markdown_file, input_file)\n\u001b[0;32m      9\u001b[0m markdown_file \u001b[38;5;241m=\u001b[39m add_footnotes_bottom(markdown_file, input_file)\n",
      "\u001b[1;31mTypeError\u001b[0m: apply_xslt() missing 1 required positional argument: 'output_path'"
     ]
    }
   ],
   "source": [
    "main()"
   ]
  },
  {
   "cell_type": "code",
   "execution_count": null,
   "id": "d38c79d9",
   "metadata": {},
   "outputs": [],
   "source": []
  }
 ],
 "metadata": {
  "kernelspec": {
   "display_name": "Python 3 (ipykernel)",
   "language": "python",
   "name": "python3"
  },
  "language_info": {
   "codemirror_mode": {
    "name": "ipython",
    "version": 3
   },
   "file_extension": ".py",
   "mimetype": "text/x-python",
   "name": "python",
   "nbconvert_exporter": "python",
   "pygments_lexer": "ipython3",
   "version": "3.10.9"
  }
 },
 "nbformat": 4,
 "nbformat_minor": 5
}
