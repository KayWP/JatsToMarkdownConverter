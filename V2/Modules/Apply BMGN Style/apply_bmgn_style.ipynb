{
 "cells": [
  {
   "cell_type": "code",
   "execution_count": 2,
   "id": "33549358",
   "metadata": {},
   "outputs": [],
   "source": [
    "import sys"
   ]
  },
  {
   "cell_type": "code",
   "execution_count": 11,
   "id": "3e8ede7e",
   "metadata": {},
   "outputs": [],
   "source": [
    "def main():\n",
    "    # Check if the correct number of command-line arguments are provided\n",
    "    if len(sys.argv) != 2:\n",
    "        print(\"Usage: python apply_bmgn_style.py <input_html_file>\")\n",
    "        sys.exit(1)\n",
    "\n",
    "    # Get the input HTML file name from the command line argument\n",
    "    input_file = sys.argv[1]\n",
    "\n",
    "    try:\n",
    "        # Open the HTML file for reading\n",
    "        with open(input_file, 'r', encoding=\"utf8\") as file:\n",
    "            # Read the content of the file\n",
    "            html_content = file.read()\n",
    "\n",
    "        # Perform your edits on the HTML content here\n",
    "        # For example, you can replace some text\n",
    "        edited_html_content = style_replace(html_content)\n",
    "\n",
    "        # Open the HTML file for writing (this will overwrite the original file)\n",
    "        with open(input_file, 'w', encoding=\"utf8\") as file:\n",
    "            # Write the edited content back to the file\n",
    "            file.write(edited_html_content)\n",
    "\n",
    "        print(\"HTML file has been successfully edited.\")\n",
    "\n",
    "    except FileNotFoundError:\n",
    "        print(f\"File '{input_file}' not found.\")\n",
    "    except Exception as e:\n",
    "        print(f\"An error occurred: {str(e)}\")"
   ]
  },
  {
   "cell_type": "code",
   "execution_count": 9,
   "id": "ab197fba",
   "metadata": {},
   "outputs": [],
   "source": [
    "def style_replace(htmlfile):\n",
    "    replace_dictionary = {'--jp-content-heading-font-weight: 500;':'--jp-content-heading-font-weight: bold;',\n",
    "                         '--jp-content-font-size1: 14px;':'--jp-content-font-size1: 13px;',\n",
    "                         '--jp-content-font-size3: 1.44em;':'--jp-content-font-size3: 13px;',\n",
    "                         '--jp-content-font-size4: 1.728em;':'--jp-content-font-size4: 14px;',\n",
    "                         '--jp-content-font-size5: 2.0736em;':'--jp-content-font-size5: 18px;'}\n",
    "    output = htmlfile\n",
    "    for replacement in replace_dictionary.keys():\n",
    "        output = output.replace(replacement, replace_dictionary[replacement])\n",
    "        \n",
    "    return output"
   ]
  },
  {
   "cell_type": "code",
   "execution_count": 6,
   "id": "78078990",
   "metadata": {},
   "outputs": [
    {
     "name": "stdout",
     "output_type": "stream",
     "text": [
      "Usage: python apply_bmgn_style.py <input_html_file>\n"
     ]
    },
    {
     "ename": "SystemExit",
     "evalue": "1",
     "output_type": "error",
     "traceback": [
      "An exception has occurred, use %tb to see the full traceback.\n",
      "\u001b[1;31mSystemExit\u001b[0m\u001b[1;31m:\u001b[0m 1\n"
     ]
    }
   ],
   "source": [
    "main()"
   ]
  },
  {
   "cell_type": "code",
   "execution_count": null,
   "id": "cdc89b09",
   "metadata": {},
   "outputs": [],
   "source": []
  }
 ],
 "metadata": {
  "kernelspec": {
   "display_name": "Python 3 (ipykernel)",
   "language": "python",
   "name": "python3"
  },
  "language_info": {
   "codemirror_mode": {
    "name": "ipython",
    "version": 3
   },
   "file_extension": ".py",
   "mimetype": "text/x-python",
   "name": "python",
   "nbconvert_exporter": "python",
   "pygments_lexer": "ipython3",
   "version": "3.10.9"
  }
 },
 "nbformat": 4,
 "nbformat_minor": 5
}
