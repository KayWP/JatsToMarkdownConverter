{
 "cells": [
  {
   "cell_type": "code",
   "execution_count": 2,
   "id": "dc8a9e26",
   "metadata": {},
   "outputs": [],
   "source": [
    "import sys"
   ]
  },
  {
   "cell_type": "code",
   "execution_count": 8,
   "id": "dc9a5865",
   "metadata": {},
   "outputs": [],
   "source": [
    "def main():\n",
    "    # Check if the correct number of command-line arguments are provided\n",
    "    if len(sys.argv) != 2:\n",
    "        print(\"Usage: python apply_bmgn_style.py <input_html_file>\")\n",
    "        sys.exit(1)\n",
    "\n",
    "    # Get the input HTML file name from the command line argument\n",
    "    input_file = sys.argv[1]\n",
    "\n",
    "    try:\n",
    "        # Open the HTML file for reading\n",
    "        with open(input_file, 'r') as file:\n",
    "            # Read the content of the file\n",
    "            html_content = file.read()\n",
    "\n",
    "        # Perform your edits on the HTML content here\n",
    "        # For example, you can replace some text\n",
    "        edited_html_content = style_replace(html_content)\n",
    "\n",
    "        # Open the HTML file for writing (this will overwrite the original file)\n",
    "        with open(input_file, 'w') as file:\n",
    "            # Write the edited content back to the file\n",
    "            file.write(edited_html_content)\n",
    "\n",
    "        print(\"HTML file has been successfully edited.\")\n",
    "\n",
    "    except FileNotFoundError:\n",
    "        print(f\"File '{input_file}' not found.\")\n",
    "    except Exception as e:\n",
    "        print(f\"An error occurred: {str(e)}\")"
   ]
  },
  {
   "cell_type": "code",
   "execution_count": 7,
   "id": "b6929a6a",
   "metadata": {},
   "outputs": [],
   "source": [
    "def style_replace(htmlfile):\n",
    "    replace_dictionary = {}\n",
    "    output = htmlfile\n",
    "    for replacement in replace_dictionary.keys():\n",
    "        output = output.replace(replacement, replace_dictionary[replacement])\n",
    "        \n",
    "    return output"
   ]
  },
  {
   "cell_type": "code",
   "execution_count": 6,
   "id": "bc074538",
   "metadata": {},
   "outputs": [
    {
     "name": "stdout",
     "output_type": "stream",
     "text": [
      "Usage: python apply_bmgn_style.py <input_html_file>\n"
     ]
    },
    {
     "ename": "SystemExit",
     "evalue": "1",
     "output_type": "error",
     "traceback": [
      "An exception has occurred, use %tb to see the full traceback.\n",
      "\u001b[1;31mSystemExit\u001b[0m\u001b[1;31m:\u001b[0m 1\n"
     ]
    }
   ],
   "source": [
    "main()"
   ]
  },
  {
   "cell_type": "code",
   "execution_count": null,
   "id": "e3fa18ca",
   "metadata": {},
   "outputs": [],
   "source": []
  }
 ],
 "metadata": {
  "kernelspec": {
   "display_name": "Python 3 (ipykernel)",
   "language": "python",
   "name": "python3"
  },
  "language_info": {
   "codemirror_mode": {
    "name": "ipython",
    "version": 3
   },
   "file_extension": ".py",
   "mimetype": "text/x-python",
   "name": "python",
   "nbconvert_exporter": "python",
   "pygments_lexer": "ipython3",
   "version": "3.10.9"
  }
 },
 "nbformat": 4,
 "nbformat_minor": 5
}
