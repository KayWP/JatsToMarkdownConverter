{
 "cells": [
  {
   "cell_type": "code",
   "execution_count": 63,
   "id": "1d0ec860",
   "metadata": {},
   "outputs": [],
   "source": [
    "from lxml import etree\n",
    "import re\n",
    "import xml.etree.ElementTree as ET\n",
    "import sys"
   ]
  },
  {
   "cell_type": "code",
   "execution_count": 65,
   "id": "0c531cce",
   "metadata": {},
   "outputs": [],
   "source": [
    "def main():\n",
    "    try:\n",
    "        inp = sys.argv[1]\n",
    "        style = sys.argv[2]\n",
    "    #get paths\n",
    "        with open('markdown.txt', 'w') as output_file:\n",
    "            output_file.write(do_it_all(inp, style))\n",
    "    except IndexError:\n",
    "        print('please input all the necessary command line variables')"
   ]
  },
  {
   "cell_type": "code",
   "execution_count": 56,
   "id": "236a9598",
   "metadata": {},
   "outputs": [],
   "source": [
    "def apply_xslt(xml_path, xslt_path, output_path):\n",
    "    # Load the XML and XSLT files\n",
    "    xml_tree = etree.parse(xml_path)\n",
    "    xslt_tree = etree.parse(xslt_path)\n",
    "\n",
    "    # Create the XSLT transformer\n",
    "    transformer = etree.XSLT(xslt_tree)\n",
    "\n",
    "    # Apply the XSLT transformation to the XML\n",
    "    transformed_tree = transformer(xml_tree)\n",
    "\n",
    "    # Save the result as a .txt file\n",
    "    with open(output_path, 'w', encoding='utf-8') as output_file:\n",
    "        output_file.write(str(transformed_tree))"
   ]
  },
  {
   "cell_type": "code",
   "execution_count": 4,
   "id": "9c217d01",
   "metadata": {},
   "outputs": [],
   "source": [
    "#regexes:\n",
    "p_fn = r'\\[fn:fn(\\d+)\\]' #footnote in running text\n",
    "p_tbl = r'\\[tbl: tb(\\d+)\\]' #table\n",
    "p_cptn = r'(?s)\\*\\_(.*?)\\_\\*' #caption for figure"
   ]
  },
  {
   "cell_type": "code",
   "execution_count": 58,
   "id": "2626d868",
   "metadata": {},
   "outputs": [],
   "source": [
    "def extract_table_wrap_elements(xml_file):\n",
    "    tree = ET.parse(xml_file)\n",
    "    root = tree.getroot()\n",
    "\n",
    "    table_wrap_dict = {}\n",
    "    for table_wrap in root.findall(\".//table-wrap\"):\n",
    "        table_wrap_id = table_wrap.attrib.get(\"id\")\n",
    "        if table_wrap_id:\n",
    "            table_wrap_dict[table_wrap_id] = ET.tostring(table_wrap, encoding=\"unicode\")\n",
    "\n",
    "    return table_wrap_dict"
   ]
  },
  {
   "cell_type": "code",
   "execution_count": 6,
   "id": "bf10e77a",
   "metadata": {},
   "outputs": [],
   "source": [
    "def get_table_by_id(table_id, xmlfile):\n",
    "    table_dict = extract_table_wrap_elements(xmlfile)\n",
    "    return table_dict[table_id]"
   ]
  },
  {
   "cell_type": "code",
   "execution_count": 7,
   "id": "065731ae",
   "metadata": {},
   "outputs": [],
   "source": [
    "def replace_tables(markupfile, xmlfile):\n",
    "    id_nos = re.findall(p_tbl, markupfile)\n",
    "    for table in id_nos:\n",
    "        tblid = 'tb' + table\n",
    "        #print(table)\n",
    "        replacement = get_table_by_id(tblid, xmlfile)\n",
    "        #print()\n",
    "        #print(replacement)\n",
    "        tobereplaced = '[tbl: ' + tblid + ']'\n",
    "        markupfile = markupfile.replace(tobereplaced, replacement)\n",
    "    return markupfile"
   ]
  },
  {
   "cell_type": "code",
   "execution_count": 60,
   "id": "e979490b",
   "metadata": {},
   "outputs": [],
   "source": [
    "def get_text_recursively(element):\n",
    "    text = element.text or \"\"\n",
    "    for child in element:\n",
    "        text += get_text_recursively(child)\n",
    "        text += child.tail or \"\"\n",
    "    return text\n",
    "\n",
    "def extract_fn_contents(xml_file):\n",
    "    # Initialize an empty dictionary to store the extracted content\n",
    "    fn_dict = {}\n",
    "\n",
    "    # Parse the XML file\n",
    "    tree = ET.parse(xml_file)\n",
    "    root = tree.getroot()\n",
    "\n",
    "    # Find all <fn> elements within the <fn-group>\n",
    "    for fn in root.findall('.//fn-group/fn'):\n",
    "        fn_id = fn.get('id')  # Get the fn id\n",
    "        fn_label = fn.find('label').text  # Get the fn label\n",
    "        fn_content = get_text_recursively(fn.find('p'))  # Get the fn content\n",
    "\n",
    "        # Store the content in the dictionary using the label as the key\n",
    "        fn_dict[fn_label] = fn_content\n",
    "\n",
    "    return fn_dict"
   ]
  },
  {
   "cell_type": "code",
   "execution_count": 49,
   "id": "c6ccf297",
   "metadata": {},
   "outputs": [],
   "source": [
    "def add_footnotes_bottom(txt, basexml):\n",
    "    footnote_list = extract_fn_contents(basexml)\n",
    "    for fn in footnote_list.keys():\n",
    "        fnno = fn\n",
    "        fntxt = footnote_list[fn]\n",
    "        fnformula = \"<p><a href=\\\"#_ftnref\"+ fnno +'\" name=\"_ftn' + fnno + '\">[' + fnno +'] </a>' + fntxt + '</p>'\n",
    "        txt += '\\n'\n",
    "        txt += '\\n'\n",
    "        txt += fnformula\n",
    "    return txt"
   ]
  },
  {
   "cell_type": "code",
   "execution_count": 61,
   "id": "3285399e",
   "metadata": {},
   "outputs": [],
   "source": [
    "def add_fn(txt, xmlfile):\n",
    "    footnote_list = extract_fn_contents(xmlfile)\n",
    "    for fn in footnote_list.keys():\n",
    "        fnid = 'fn' + fn\n",
    "        #print(table)\n",
    "        replacement = '<a href=\"#_ftn' + fn + '\" name=\"_ftnref' + fn + '\">[' + fn +  ']</a>'\n",
    "        #print()\n",
    "        #print(replacement)\n",
    "        tobereplaced = '[fn:' + fnid + ']'\n",
    "        #print(tobereplaced)\n",
    "        txt = txt.replace(tobereplaced, replacement)\n",
    "    return txt"
   ]
  },
  {
   "cell_type": "code",
   "execution_count": 52,
   "id": "5dac0323",
   "metadata": {},
   "outputs": [],
   "source": [
    "def do_it_all(input_path, style_path):\n",
    "    p_fn = r'\\[fn:fn(\\d+)\\]' #footnote in running text\n",
    "    p_tbl = r'\\[tbl: tb(\\d+)\\]' #table\n",
    "    p_cptn = r'(?s)\\*\\_(.*?)\\_\\*' #caption for figure\n",
    "    apply_xslt(input_path, style_path, 'temp.txt')\n",
    "    with open('temp.txt', 'r', encoding='utf-8') as file:\n",
    "    # Read the entire content of the file\n",
    "        markdownfile = file.read()\n",
    "    markdownfile = replace_tables(markdownfile, input_path)\n",
    "    markdownfile = add_footnotes_bottom(markdownfile, input_path)\n",
    "    markdownfile = add_fn(markdownfile, input_path)\n",
    "    \n",
    "    return markdownfile"
   ]
  },
  {
   "cell_type": "code",
   "execution_count": null,
   "id": "077ee71b",
   "metadata": {},
   "outputs": [],
   "source": [
    "main()"
   ]
  }
 ],
 "metadata": {
  "kernelspec": {
   "display_name": "Python 3 (ipykernel)",
   "language": "python",
   "name": "python3"
  },
  "language_info": {
   "codemirror_mode": {
    "name": "ipython",
    "version": 3
   },
   "file_extension": ".py",
   "mimetype": "text/x-python",
   "name": "python",
   "nbconvert_exporter": "python",
   "pygments_lexer": "ipython3",
   "version": "3.10.9"
  }
 },
 "nbformat": 4,
 "nbformat_minor": 5
}
